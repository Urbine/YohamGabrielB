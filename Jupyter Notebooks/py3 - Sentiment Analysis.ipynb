{
 "cells": [
  {
   "cell_type": "markdown",
   "metadata": {},
   "source": [
    "## Python 3 - Sentiment Analysis (Project testing)"
   ]
  },
  {
   "cell_type": "markdown",
   "metadata": {},
   "source": [
    "### Build the project functions"
   ]
  },
  {
   "cell_type": "code",
   "execution_count": 44,
   "metadata": {},
   "outputs": [],
   "source": [
    "punctuation_chars = [\"'\", '\"', \",\", \".\", \"!\", \":\", \";\", '#', '@']\n",
    " \n",
    "def strip_punctuation(word):\n",
    "    y = []\n",
    "    for i in word:\n",
    "        if i not in punctuation_chars:\n",
    "            y.append(i)\n",
    "    return \"\".join(y)"
   ]
  },
  {
   "cell_type": "code",
   "execution_count": 47,
   "metadata": {},
   "outputs": [
    {
     "name": "stdout",
     "output_type": "stream",
     "text": [
      "incredible\n"
     ]
    }
   ],
   "source": [
    "# performing some tests for debugging purposes.\n",
    "\n",
    "print(strip_punctuation(\"#in.cred..ible!\"))"
   ]
  },
  {
   "cell_type": "code",
   "execution_count": null,
   "metadata": {},
   "outputs": [],
   "source": [
    "punctuation_chars = [\"'\", '\"', \",\", \".\", \"!\", \":\", \";\", '#', '@']\n",
    "# list of positive words to use\n",
    "# Code won't execute in the notebook since the file is not stored locally.\n",
    "positive_words = []\n",
    "with open(\"positive_words.txt\") as pos_f:\n",
    "    for lin in pos_f:\n",
    "        if lin[0] != ';' and lin[0] != '\\n':\n",
    "            positive_words.append(lin.strip())\n",
    "\n",
    "def strip_punctuation(word):\n",
    "    y = []\n",
    "    for i in word:\n",
    "        if i not in punctuation_chars:\n",
    "            y.append(i)\n",
    "    return \"\".join(y)\n",
    "\n",
    "# Here we need to start buiding another function in the next cell.\n"
   ]
  },
  {
   "cell_type": "code",
   "execution_count": null,
   "metadata": {},
   "outputs": [],
   "source": [
    "# Get positive words function\n",
    "\n",
    "def get_pos(sentence):\n",
    "    toLower = sentence.lower()\n",
    "    count = 0\n",
    "    splt = toLower.split()\n",
    "    for w in splt:\n",
    "        rp = strip_punctuation(w)\n",
    "        if rp in positive_words:\n",
    "            count = count + 1\n",
    "        else:\n",
    "            continue\n",
    "    return count"
   ]
  },
  {
   "cell_type": "code",
   "execution_count": null,
   "metadata": {},
   "outputs": [],
   "source": [
    "# Get negative words function\n",
    "\n",
    "def get_neg(sentence):\n",
    "    toLower = sentence.lower()\n",
    "    count = 0\n",
    "    splt = toLower.split()\n",
    "    for w in splt:\n",
    "        rp = strip_punctuation(w)\n",
    "        if rp in negative_words:\n",
    "            count = count + 1\n",
    "        else:\n",
    "            continue\n",
    "    return count"
   ]
  },
  {
   "cell_type": "code",
   "execution_count": null,
   "metadata": {},
   "outputs": [],
   "source": [
    "# As well as other funtions, this one refers to files stored elsewhere.\n",
    "\n",
    "outfile = open(\"resulting_data.csv\", \"w\")\n",
    "# Writing outfile header\n",
    "outfile.write(\"Number of Retweets, Number of Replies, Positive Score, Negative Score, Net Score\")\n",
    "# Write new line after the header.\n",
    "outfile.write('\\n')\n",
    "with open(\"project_twitter_data.csv\") as pro:\n",
    "    lines = pro.readlines()\n",
    "    header = lines[0]\n",
    "    # ['tweet_text', 'retweet_count', 'reply_count']\n",
    "    field_names = header.strip().split(\",\")\n",
    "    for row in lines[1:]:\n",
    "        values = row.strip().split(\",\")\n",
    "        posScore = get_pos(values[0])\n",
    "        negScore = get_neg(values[0])\n",
    "        retweetNum = values[1]\n",
    "        replyNum = values[2]\n",
    "        netScore = posScore - negScore\n",
    "        outfile.write(\"{}, {}, {}, {}, {}\".format(retweetNum, replyNum, posScore, negScore, netScore))\n",
    "        outfile.write(\"\\n\")\n",
    "    outfile.close()"
   ]
  },
  {
   "cell_type": "markdown",
   "metadata": {},
   "source": [
    "### Retrieve information from the csv file, clean, and write on \"resulting_data.csv\""
   ]
  },
  {
   "cell_type": "code",
   "execution_count": null,
   "metadata": {},
   "outputs": [],
   "source": [
    "# Data file: \"resulting_data.csv\"\n",
    "\n",
    "Number of Retweets, Number of Replies, Positive Score, Negative Score, Net Score\n",
    "3, 0, 0, 0, 0\n",
    "1, 0, 2, 2, 0\n",
    "1, 2, 1, 0, 1\n",
    "3, 1, 1, 0, 1\n",
    "6, 0, 2, 0, 2\n",
    "9, 5, 2, 0, 2\n",
    "19, 0, 2, 0, 2\n",
    "0, 0, 0, 3, -3\n",
    "0, 0, 0, 2, -2\n",
    "82, 2, 4, 0, 4\n",
    "0, 0, 0, 1, -1\n",
    "0, 0, 1, 0, 1\n",
    "47, 0, 2, 0, 2\n",
    "2, 1, 1, 0, 1\n",
    "0, 2, 1, 0, 1\n",
    "0, 0, 2, 1, 1\n",
    "4, 6, 3, 0, 3\n",
    "19, 0, 3, 1, 2\n",
    "0, 0, 1, 1, 0"
   ]
  },
  {
   "cell_type": "markdown",
   "metadata": {},
   "source": [
    "### Sentiment Analysis Results"
   ]
  },
  {
   "attachments": {
    "Sentiment-Analysis.png": {
     "image/png": "[encoded data removed]"
    }
   },
   "cell_type": "markdown",
   "metadata": {},
   "source": [
    "![Sentiment-Analysis.png](attachment:Sentiment-Analysis.png)"
   ]
  }
 ],
 "metadata": {
  "kernelspec": {
   "display_name": "Python 3",
   "language": "python",
   "name": "python3"
  },
  "language_info": {
   "codemirror_mode": {
    "name": "ipython",
    "version": 3
   },
   "file_extension": ".py",
   "mimetype": "text/x-python",
   "name": "python",
   "nbconvert_exporter": "python",
   "pygments_lexer": "ipython3",
   "version": "3.7.6"
  }
 },
 "nbformat": 4,
 "nbformat_minor": 4
}
